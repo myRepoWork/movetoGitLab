{
 "cells": [
  {
   "cell_type": "code",
   "execution_count": 11,
   "metadata": {},
   "outputs": [
    {
     "name": "stdout",
     "output_type": "stream",
     "text": [
      "2+3j\n",
      "(5, 0, 10)\n"
     ]
    }
   ],
   "source": [
    "class ComplexNumber:\n",
    "    def __init__(self,r = 0, i = 0):\n",
    "        self.real = r\n",
    "        self.img = i\n",
    "    def getData(self):\n",
    "        print(\"{0}+{1}j\".format(self.real, self.img))\n",
    "        \n",
    "# Create a new ComplexNumber object\n",
    "c1 = ComplexNumber(2,3)\n",
    "\n",
    "# Call getData() function\n",
    "# Output: 2+3j\n",
    "\n",
    "c1.getData()\n",
    "\n",
    "#Create another COmplexNumber object\n",
    "#and create a new attribute 'attr'\n",
    "\n",
    "c2 = ComplexNumber(5)\n",
    "c2.attr = 10\n",
    "\n",
    "# output: (5,0,10)\n",
    "print((c2.real, c2.img, c2.attr))\n"
   ]
  },
  {
   "cell_type": "code",
   "execution_count": null,
   "metadata": {},
   "outputs": [],
   "source": []
  }
 ],
 "metadata": {
  "kernelspec": {
   "display_name": "Python 3",
   "language": "python",
   "name": "python3"
  },
  "language_info": {
   "codemirror_mode": {
    "name": "ipython",
    "version": 3
   },
   "file_extension": ".py",
   "mimetype": "text/x-python",
   "name": "python",
   "nbconvert_exporter": "python",
   "pygments_lexer": "ipython3",
   "version": "3.6.5"
  }
 },
 "nbformat": 4,
 "nbformat_minor": 2
}
